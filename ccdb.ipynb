import pandas as pd

df = read_html('http://www.chalanachithram.com/discus/messages/115/115.html')

type(df)

len(df)

df[1].head()

df[4].head()
